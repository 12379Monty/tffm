{
 "cells": [
  {
   "cell_type": "markdown",
   "metadata": {},
   "source": [
    "Tested on Amazon standart g2.2xlarge instance with installed CUDA 7.5 and TensorFlow 0.9"
   ]
  },
  {
   "cell_type": "code",
   "execution_count": 1,
   "metadata": {
    "collapsed": false
   },
   "outputs": [],
   "source": [
    "import numpy as np\n",
    "import tensorflow as tf\n",
    "import time\n",
    "from tqdm import tqdm"
   ]
  },
  {
   "cell_type": "markdown",
   "metadata": {},
   "source": [
    "# Load data"
   ]
  },
  {
   "cell_type": "code",
   "execution_count": 2,
   "metadata": {
    "collapsed": false
   },
   "outputs": [
    {
     "name": "stderr",
     "output_type": "stream",
     "text": [
      "/usr/local/lib/python2.7/dist-packages/numpy/core/fromnumeric.py:2652: VisibleDeprecationWarning: `rank` is deprecated; use the `ndim` attribute or function instead. To find the rank of a matrix see `numpy.linalg.matrix_rank`.\n",
      "  VisibleDeprecationWarning)\n"
     ]
    },
    {
     "name": "stdout",
     "output_type": "stream",
     "text": [
      "Dataset shape: (13454, 784)\n",
      "Non-zeros rate: 0.163235158044\n",
      "Classes balance: 0.469228482236 / 0.530771517764\n"
     ]
    }
   ],
   "source": [
    "from sklearn.datasets import fetch_mldata\n",
    "from sklearn.preprocessing import scale\n",
    "from sklearn.cross_validation import train_test_split\n",
    "from sklearn.metrics import roc_auc_score, accuracy_score\n",
    "\n",
    "\n",
    "mnist = fetch_mldata('MNIST original', data_home='./tmp')\n",
    "\n",
    "# only binary classification supported\n",
    "mask = (mnist['target'] == 3) + (mnist['target'] == 5)\n",
    "\n",
    "X_all = scale(mnist['data'][mask].astype(float))\n",
    "y_all = (mnist['target'][mask]==3)*1\n",
    "\n",
    "# make it more sparse\n",
    "X_all = X_all * (np.random.uniform(0, 1, X_all.shape) > 0.8)\n",
    "\n",
    "print('Dataset shape: {}'.format(X_all.shape))\n",
    "print('Non-zeros rate: {}'.format(np.mean(X_all != 0)))\n",
    "print('Classes balance: {} / {}'.format(np.mean(y_all==0), np.mean(y_all==1)))\n",
    "\n",
    "X_tr, X_te, y_tr, y_te = train_test_split(X_all, y_all, random_state=42, test_size=0.3)"
   ]
  },
  {
   "cell_type": "markdown",
   "metadata": {
    "collapsed": true
   },
   "source": [
    "# Dense data"
   ]
  },
  {
   "cell_type": "code",
   "execution_count": 5,
   "metadata": {
    "collapsed": true
   },
   "outputs": [],
   "source": [
    "from tffm import TFFMClassifier"
   ]
  },
  {
   "cell_type": "code",
   "execution_count": 6,
   "metadata": {
    "collapsed": false
   },
   "outputs": [
    {
     "name": "stdout",
     "output_type": "stream",
     "text": [
      "CPU only / dense data\n"
     ]
    },
    {
     "name": "stderr",
     "output_type": "stream",
     "text": [
      "100%|██████████| 100/100 [00:30<00:00,  3.38epoch/s]"
     ]
    },
    {
     "name": "stdout",
     "output_type": "stream",
     "text": [
      "accuracy: 0.937081991578\n"
     ]
    },
    {
     "name": "stderr",
     "output_type": "stream",
     "text": [
      "\n"
     ]
    }
   ],
   "source": [
    "model = TFFMClassifier(\n",
    "    order=3,\n",
    "    rank=10, \n",
    "    optimizer=tf.train.AdamOptimizer(learning_rate=0.01), \n",
    "    n_epochs=100, \n",
    "    batch_size=-1,\n",
    "    init_std=0.001,\n",
    "    reg=0.001,\n",
    "    input_type='dense',\n",
    "    session_config=tf.ConfigProto(log_device_placement=True, device_count = {'GPU': 0}),\n",
    "    log_dir='./tmp'\n",
    ")\n",
    "print('CPU only / dense data')\n",
    "model.fit(X_tr, y_tr, show_progress=True)\n",
    "predictions = model.predict(X_te)\n",
    "print('accuracy: {}'.format(accuracy_score(y_te, predictions)))\n",
    "model.destroy()"
   ]
  },
  {
   "cell_type": "markdown",
   "metadata": {
    "collapsed": true
   },
   "source": [
    "in stderr: mainBlock/order_3/Pow_1/y: /job:localhost/replica:0/task:0/cpu:0"
   ]
  },
  {
   "cell_type": "code",
   "execution_count": 7,
   "metadata": {
    "collapsed": false
   },
   "outputs": [
    {
     "name": "stdout",
     "output_type": "stream",
     "text": [
      "GPU / dense data\n"
     ]
    },
    {
     "name": "stderr",
     "output_type": "stream",
     "text": [
      "100%|██████████| 100/100 [00:09<00:00, 10.36epoch/s]\n"
     ]
    },
    {
     "name": "stdout",
     "output_type": "stream",
     "text": [
      "accuracy: 0.931384691603\n"
     ]
    }
   ],
   "source": [
    "model = TFFMClassifier(\n",
    "    order=3,\n",
    "    rank=10, \n",
    "    optimizer=tf.train.AdamOptimizer(learning_rate=0.01), \n",
    "    n_epochs=100, \n",
    "    batch_size=-1,\n",
    "    init_std=0.001,\n",
    "    reg=0.001,\n",
    "    input_type='dense',\n",
    "    session_config=tf.ConfigProto(log_device_placement=True),\n",
    "    log_dir='./tmp'\n",
    ")\n",
    "print('GPU / dense data')\n",
    "model.fit(X_tr, y_tr, show_progress=True)\n",
    "predictions = model.predict(X_te)\n",
    "print('accuracy: {}'.format(accuracy_score(y_te, predictions)))\n",
    "model.destroy()"
   ]
  },
  {
   "cell_type": "markdown",
   "metadata": {},
   "source": [
    "in stderr: mainBlock/order_2/Pow_1/y: /job:localhost/replica:0/task:0/gpu:0"
   ]
  },
  {
   "cell_type": "markdown",
   "metadata": {},
   "source": [
    "# Sparse example"
   ]
  },
  {
   "cell_type": "code",
   "execution_count": 8,
   "metadata": {
    "collapsed": true
   },
   "outputs": [],
   "source": [
    "import scipy.sparse as sp\n",
    "# only CRS format supported\n",
    "X_tr_sparse = sp.csr_matrix(X_tr)\n",
    "X_te_sparse = sp.csr_matrix(X_te)"
   ]
  },
  {
   "cell_type": "code",
   "execution_count": 9,
   "metadata": {
    "collapsed": false
   },
   "outputs": [
    {
     "name": "stdout",
     "output_type": "stream",
     "text": [
      "CPU only / sparse data\n"
     ]
    },
    {
     "name": "stderr",
     "output_type": "stream",
     "text": [
      "100%|██████████| 100/100 [00:37<00:00,  2.59epoch/s]"
     ]
    },
    {
     "name": "stdout",
     "output_type": "stream",
     "text": [
      "accuracy: 0.935100322021\n"
     ]
    },
    {
     "name": "stderr",
     "output_type": "stream",
     "text": [
      "\n"
     ]
    }
   ],
   "source": [
    "model = TFFMClassifier(\n",
    "    order=3,\n",
    "    rank=10, \n",
    "    optimizer=tf.train.AdamOptimizer(learning_rate=0.01), \n",
    "    n_epochs=100, \n",
    "    batch_size=-1,\n",
    "    init_std=0.001,\n",
    "    reg=0.001,\n",
    "    input_type='sparse',\n",
    "    session_config=tf.ConfigProto(log_device_placement=True, device_count = {'GPU': 0}),\n",
    "    log_dir='./tmp'\n",
    ")\n",
    "print('CPU only / sparse data')\n",
    "model.fit(X_tr_sparse, y_tr, show_progress=True)\n",
    "predictions = model.predict(X_te_sparse)\n",
    "print('accuracy: {}'.format(accuracy_score(y_te, predictions)))\n",
    "model.destroy()"
   ]
  },
  {
   "cell_type": "code",
   "execution_count": 10,
   "metadata": {
    "collapsed": false
   },
   "outputs": [
    {
     "name": "stdout",
     "output_type": "stream",
     "text": [
      "GPU / sparse data\n"
     ]
    },
    {
     "name": "stderr",
     "output_type": "stream",
     "text": [
      "100%|██████████| 100/100 [00:18<00:00,  5.20epoch/s]\n"
     ]
    },
    {
     "name": "stdout",
     "output_type": "stream",
     "text": [
      "accuracy: 0.931136982908\n"
     ]
    }
   ],
   "source": [
    "model = TFFMClassifier(\n",
    "    order=3,\n",
    "    rank=10, \n",
    "    optimizer=tf.train.AdamOptimizer(learning_rate=0.01), \n",
    "    n_epochs=100, \n",
    "    batch_size=-1,\n",
    "    init_std=0.001,\n",
    "    reg=0.001,\n",
    "    input_type='sparse',\n",
    "    session_config=tf.ConfigProto(log_device_placement=True),\n",
    "    log_dir='./tmp'\n",
    ")\n",
    "print('GPU / sparse data')\n",
    "model.fit(X_tr_sparse, y_tr, show_progress=True)\n",
    "predictions = model.predict(X_te_sparse)\n",
    "print('accuracy: {}'.format(accuracy_score(y_te, predictions)))\n",
    "model.destroy()"
   ]
  },
  {
   "cell_type": "markdown",
   "metadata": {
    "collapsed": true
   },
   "source": [
    "# n_features/time complexity"
   ]
  },
  {
   "cell_type": "code",
   "execution_count": 14,
   "metadata": {
    "collapsed": false
   },
   "outputs": [
    {
     "name": "stderr",
     "output_type": "stream",
     "text": [
      "100%|██████████| 9/9 [03:34<00:00, 25.02s/it]\n"
     ]
    }
   ],
   "source": [
    "n_features = X_all.shape[1]\n",
    "used_features = range(100, 1000, 100)\n",
    "n_repeats = 5\n",
    "elapsed_mean = {'gpu':[], 'cpu':[]}\n",
    "elapsed_std = {'gpu':[], 'cpu':[]}\n",
    "model_title = ''\n",
    "\n",
    "for cur_n_feats in tqdm(used_features):\n",
    "    for mode, config in [('gpu', None), ('cpu', tf.ConfigProto(device_count = {'GPU': 0}))]:\n",
    "        \n",
    "        time_observation = []\n",
    "        for _ in range(n_repeats):\n",
    "            active_features = np.random.choice(range(n_features), size=cur_n_feats)\n",
    "            model = TFFMClassifier(\n",
    "                        order=5, \n",
    "                        rank=50,\n",
    "                        optimizer=tf.train.AdamOptimizer(learning_rate=0.001), \n",
    "                        n_epochs=1, \n",
    "                        batch_size=-1,\n",
    "                        init_std=0.01,\n",
    "                        session_config=config,\n",
    "                        input_type='dense'\n",
    "            )\n",
    "            model_title = model.__str__()\n",
    "            # manually initialize model without calling .fit()\n",
    "            model.core.set_num_features(cur_n_feats)\n",
    "            model.core.build_graph()\n",
    "            model.initialize_session()\n",
    "\n",
    "            start_time = time.time()\n",
    "            predictions = model.decision_function(X_all[:, active_features])\n",
    "            end_time = time.time()\n",
    "            model.destroy()\n",
    "            time_observation.append(end_time - start_time)\n",
    "        elapsed_mean[mode].append(np.mean(time_observation))\n",
    "        elapsed_std[mode].append(np.std(time_observation))"
   ]
  },
  {
   "cell_type": "code",
   "execution_count": 22,
   "metadata": {
    "collapsed": false
   },
   "outputs": [
    {
     "data": {
      "image/png": "[encoded data removed]",
      "text/plain": [
       "<matplotlib.figure.Figure at 0x7f3c9c112d50>"
      ]
     },
     "metadata": {},
     "output_type": "display_data"
    }
   ],
   "source": [
    "%pylab inline\n",
    "errorbar(used_features, elapsed_mean['cpu'], yerr=elapsed_std['cpu'], label='CPU')\n",
    "errorbar(used_features, elapsed_mean['gpu'], yerr=elapsed_std['gpu'], label='GPU')\n",
    "xlim(0, 1000)\n",
    "title('CPU/GPU times')\n",
    "xlabel('n_features')\n",
    "ylabel('test time')\n",
    "legend(loc=\"upper left\")\n",
    "grid()"
   ]
  },
  {
   "cell_type": "code",
   "execution_count": null,
   "metadata": {
    "collapsed": true
   },
   "outputs": [],
   "source": []
  }
 ],
 "metadata": {
  "kernelspec": {
   "display_name": "Python 2",
   "language": "python",
   "name": "python2"
  },
  "language_info": {
   "codemirror_mode": {
    "name": "ipython",
    "version": 2
   },
   "file_extension": ".py",
   "mimetype": "text/x-python",
   "name": "python",
   "nbconvert_exporter": "python",
   "pygments_lexer": "ipython2",
   "version": "2.7.6"
  }
 },
 "nbformat": 4,
 "nbformat_minor": 0
}
