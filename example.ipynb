{
 "cells": [
  {
   "cell_type": "code",
   "execution_count": 1,
   "metadata": {
    "collapsed": false
   },
   "outputs": [],
   "source": [
    "import numpy as np\n",
    "import tensorflow as tf\n",
    "import time\n",
    "from tqdm import tqdm"
   ]
  },
  {
   "cell_type": "markdown",
   "metadata": {},
   "source": [
    "# Load data"
   ]
  },
  {
   "cell_type": "code",
   "execution_count": 2,
   "metadata": {
    "collapsed": false
   },
   "outputs": [
    {
     "name": "stdout",
     "output_type": "stream",
     "text": [
      "Extracting MNIST_data/train-images-idx3-ubyte.gz\n",
      "Extracting MNIST_data/train-labels-idx1-ubyte.gz\n",
      "Extracting MNIST_data/t10k-images-idx3-ubyte.gz\n",
      "Extracting MNIST_data/t10k-labels-idx1-ubyte.gz\n",
      "Dataset shape: (10625, 784)\n",
      "Non-zeros rate: 0.04031\n",
      "Classes balance: 0.469 / 0.531\n"
     ]
    }
   ],
   "source": [
    "from tensorflow.examples.tutorials.mnist import input_data\n",
    "from sklearn.datasets import fetch_mldata\n",
    "from sklearn.preprocessing import scale\n",
    "from sklearn.model_selection import train_test_split\n",
    "from sklearn.metrics import roc_auc_score, accuracy_score\n",
    "\n",
    "mnist = input_data.read_data_sets(\"MNIST_data/\")\n",
    "\n",
    "mnist_images = mnist.train.images\n",
    "mnist_labels = mnist.train.labels\n",
    "\n",
    "n_three, n_five = sum(mnist_labels==3), sum(mnist_labels==5)\n",
    "\n",
    "X_all = np.vstack([\n",
    "    mnist_images[mnist_labels==3,:],\n",
    "    mnist_images[mnist_labels==5,:]\n",
    "])\n",
    "\n",
    "y_all = np.array([1]*n_three + [0]*n_five)\n",
    "# make it more sparse\n",
    "X_all = X_all * (np.random.uniform(0, 1, X_all.shape) > 0.8)\n",
    "\n",
    "print('Dataset shape: {}'.format(X_all.shape))\n",
    "print('Non-zeros rate: {:.05f}'.format(np.mean(X_all != 0)))\n",
    "print('Classes balance: {:.03f} / {:.03f}'.format(np.mean(y_all==0), np.mean(y_all==1)))\n",
    "\n",
    "X_tr, X_te, y_tr, y_te = train_test_split(X_all, y_all, random_state=42, test_size=0.3)"
   ]
  },
  {
   "cell_type": "markdown",
   "metadata": {
    "collapsed": true
   },
   "source": [
    "# Baselines"
   ]
  },
  {
   "cell_type": "code",
   "execution_count": 3,
   "metadata": {
    "collapsed": false
   },
   "outputs": [
    {
     "name": "stdout",
     "output_type": "stream",
     "text": [
      "model: LogisticRegression(C=1.0, class_weight=None, dual=False, fit_intercept=True,\n",
      "          intercept_scaling=1, max_iter=100, multi_class='ovr', n_jobs=1,\n",
      "          penalty='l2', random_state=None, solver='liblinear', tol=0.0001,\n",
      "          verbose=0, warm_start=False)\n",
      "accuracy: 0.8710790464240903\n",
      "\n",
      "model: RandomForestClassifier(bootstrap=True, class_weight=None, criterion='gini',\n",
      "            max_depth=None, max_features='auto', max_leaf_nodes=None,\n",
      "            min_impurity_split=1e-07, min_samples_leaf=1,\n",
      "            min_samples_split=2, min_weight_fraction_leaf=0.0,\n",
      "            n_estimators=200, n_jobs=-1, oob_score=False,\n",
      "            random_state=None, verbose=0, warm_start=False)\n",
      "accuracy: 0.8779799247176914\n",
      "\n"
     ]
    }
   ],
   "source": [
    "from sklearn.linear_model import LogisticRegression\n",
    "from sklearn.ensemble import RandomForestClassifier\n",
    "for model in [\n",
    "                LogisticRegression(), \n",
    "                RandomForestClassifier(n_jobs=-1, n_estimators=200)\n",
    "            ]:\n",
    "    model.fit(X_tr, y_tr)\n",
    "    predictions = model.predict(X_te)\n",
    "    acc = accuracy_score(y_te, predictions)\n",
    "    print('model: {}'.format(model.__str__()))\n",
    "    print('accuracy: {}'.format(acc))\n",
    "    print()"
   ]
  },
  {
   "cell_type": "markdown",
   "metadata": {
    "collapsed": true
   },
   "source": [
    "# Dense example"
   ]
  },
  {
   "cell_type": "code",
   "execution_count": 4,
   "metadata": {
    "collapsed": false
   },
   "outputs": [
    {
     "name": "stderr",
     "output_type": "stream",
     "text": [
      "100%|██████████| 50/50 [00:06<00:00,  7.43epoch/s]      | 1/50 [00:00<00:08,  5.84epoch/s]\n"
     ]
    },
    {
     "name": "stdout",
     "output_type": "stream",
     "text": [
      "[order=2] accuracy: 0.8688833124215809\n"
     ]
    },
    {
     "name": "stderr",
     "output_type": "stream",
     "text": [
      "100%|██████████| 50/50 [00:23<00:00,  2.15epoch/s]      | 1/50 [00:00<00:21,  2.23epoch/s]"
     ]
    },
    {
     "name": "stdout",
     "output_type": "stream",
     "text": [
      "[order=3] accuracy: 0.9015056461731493\n"
     ]
    },
    {
     "name": "stderr",
     "output_type": "stream",
     "text": [
      "\n"
     ]
    }
   ],
   "source": [
    "from tffm import TFFMClassifier\n",
    "\n",
    "for order in [2, 3]:\n",
    "    model = TFFMClassifier(\n",
    "        order=order, \n",
    "        rank=10, \n",
    "        optimizer=tf.train.AdamOptimizer(learning_rate=0.001), \n",
    "        n_epochs=50, \n",
    "        batch_size=1024,\n",
    "        init_std=0.001,\n",
    "        reg=0.01,\n",
    "        input_type='dense',\n",
    "        seed=42\n",
    "    )\n",
    "    model.fit(X_tr, y_tr, show_progress=True)\n",
    "    predictions = model.predict(X_te)\n",
    "    print('[order={}] accuracy: {}'.format(order, accuracy_score(y_te, predictions)))\n",
    "    # this will close tf.Session and free resources\n",
    "    model.destroy()  "
   ]
  },
  {
   "cell_type": "markdown",
   "metadata": {},
   "source": [
    "# Sparse example"
   ]
  },
  {
   "cell_type": "code",
   "execution_count": 5,
   "metadata": {
    "collapsed": true
   },
   "outputs": [],
   "source": [
    "import scipy.sparse as sp\n",
    "# only CSR format supported\n",
    "X_tr_sparse = sp.csr_matrix(X_tr)\n",
    "X_te_sparse = sp.csr_matrix(X_te)"
   ]
  },
  {
   "cell_type": "code",
   "execution_count": 6,
   "metadata": {
    "collapsed": false
   },
   "outputs": [
    {
     "name": "stderr",
     "output_type": "stream",
     "text": [
      "100%|██████████| 50/50 [00:05<00:00,  8.57epoch/s]      | 1/50 [00:00<00:10,  4.79epoch/s]"
     ]
    },
    {
     "name": "stdout",
     "output_type": "stream",
     "text": [
      "[order=3] accuracy: 0.9015056461731493\n"
     ]
    },
    {
     "name": "stderr",
     "output_type": "stream",
     "text": [
      "\n"
     ]
    }
   ],
   "source": [
    "order = 3\n",
    "model = TFFMClassifier(\n",
    "    order=order, \n",
    "    rank=10, \n",
    "    optimizer=tf.train.AdamOptimizer(learning_rate=0.001), \n",
    "    n_epochs=50, \n",
    "    batch_size=1024,\n",
    "    init_std=0.001,\n",
    "    reg=0.01,\n",
    "    input_type='sparse',\n",
    "    seed=42\n",
    ")\n",
    "model.fit(X_tr_sparse, y_tr, show_progress=True)\n",
    "predictions = model.predict(X_te_sparse)\n",
    "print('[order={}] accuracy: {}'.format(order, accuracy_score(y_te, predictions)))\n",
    "model.destroy()"
   ]
  },
  {
   "cell_type": "markdown",
   "metadata": {},
   "source": [
    "# Regression example"
   ]
  },
  {
   "cell_type": "code",
   "execution_count": 7,
   "metadata": {
    "collapsed": false
   },
   "outputs": [
    {
     "name": "stderr",
     "output_type": "stream",
     "text": [
      "100%|██████████| 50/50 [00:06<00:00,  7.27epoch/s]      | 1/50 [00:00<00:10,  4.77epoch/s]\n"
     ]
    },
    {
     "name": "stdout",
     "output_type": "stream",
     "text": [
      "[order=3] accuracy: 0.8726474278544541\n",
      "MSE: 54.5368238889535\n"
     ]
    }
   ],
   "source": [
    "from tffm import TFFMRegressor\n",
    "from sklearn.metrics import mean_squared_error\n",
    "\n",
    "model = TFFMRegressor(\n",
    "    order=order, \n",
    "    rank=10, \n",
    "    optimizer=tf.train.AdamOptimizer(learning_rate=0.001), \n",
    "    n_epochs=50, \n",
    "    batch_size=1024,\n",
    "    init_std=0.001,\n",
    "    reg=0.01,\n",
    "    input_type='sparse'\n",
    ")\n",
    "# translate Y from {0,1} to {-10, 10}\n",
    "model.fit(X_tr_sparse, y_tr*20-10, show_progress=True)\n",
    "predictions = model.predict(X_te_sparse)\n",
    "print('[order={}] accuracy: {}'.format(order, accuracy_score(y_te, predictions > 0)))\n",
    "print('MSE: {}'.format(mean_squared_error(y_te*20-10, predictions)))\n",
    "model.destroy()"
   ]
  },
  {
   "cell_type": "markdown",
   "metadata": {
    "collapsed": true
   },
   "source": [
    "# n_features/time complexity"
   ]
  },
  {
   "cell_type": "code",
   "execution_count": 8,
   "metadata": {
    "collapsed": false,
    "scrolled": true
   },
   "outputs": [
    {
     "name": "stderr",
     "output_type": "stream",
     "text": [
      "100%|██████████| 9/9 [04:22<00:00, 29.21s/it]       | 1/9 [00:26<03:33, 26.65s/it]\n"
     ]
    }
   ],
   "source": [
    "n_features = X_all.shape[1]\n",
    "used_features = range(100, 1000, 100)\n",
    "n_repeats = 5\n",
    "elapsed_mean = []\n",
    "elapsed_std = []\n",
    "model_title = ''\n",
    "\n",
    "for cur_n_feats in tqdm(used_features):\n",
    "    time_observation = []\n",
    "    for _ in range(n_repeats):\n",
    "        active_features = np.random.choice(range(n_features), size=cur_n_feats)\n",
    "        model = TFFMClassifier(\n",
    "                    order=5, \n",
    "                    rank=50,\n",
    "                    optimizer=tf.train.AdamOptimizer(learning_rate=0.001), \n",
    "                    n_epochs=1, \n",
    "                    batch_size=-1,\n",
    "                    init_std=0.01,\n",
    "                    input_type='dense'\n",
    "        )\n",
    "        model_title = model.__str__()\n",
    "        # manually initialize model without calling .fit()\n",
    "        model.core.set_num_features(cur_n_feats)\n",
    "        model.core.build_graph()\n",
    "        model.initialize_session()\n",
    "        \n",
    "        start_time = time.time()\n",
    "        predictions = model.decision_function(X_all[:, active_features])\n",
    "        end_time = time.time()\n",
    "        model.destroy()\n",
    "        time_observation.append(end_time - start_time)\n",
    "    elapsed_mean.append(np.mean(time_observation))\n",
    "    elapsed_std.append(np.std(time_observation))"
   ]
  },
  {
   "cell_type": "code",
   "execution_count": 9,
   "metadata": {
    "collapsed": false
   },
   "outputs": [
    {
     "name": "stdout",
     "output_type": "stream",
     "text": [
      "Populating the interactive namespace from numpy and matplotlib\n"
     ]
    },
    {
     "name": "stderr",
     "output_type": "stream",
     "text": [
      "/Users/peterwills/anaconda/lib/python3.5/site-packages/IPython/core/magics/pylab.py:161: UserWarning: pylab import has clobbered these variables: ['random']\n",
      "`%matplotlib` prevents importing * from pylab and numpy\n",
      "  \"\\n`%matplotlib` prevents importing * from pylab and numpy\"\n"
     ]
    },
    {
     "data": {
      "text/plain": [
       "<matplotlib.text.Text at 0x104405f28>"
      ]
     },
     "execution_count": 9,
     "metadata": {},
     "output_type": "execute_result"
    },
    {
     "data": {
      "image/png": "[encoded data removed]",
      "text/plain": [
       "<matplotlib.figure.Figure at 0x106286f60>"
      ]
     },
     "metadata": {},
     "output_type": "display_data"
    }
   ],
   "source": [
    "%pylab inline\n",
    "errorbar(used_features, elapsed_mean, yerr=elapsed_std)\n",
    "xlim(0, 1000)\n",
    "title(model_title)\n",
    "xlabel('n_features')\n",
    "ylabel('test time')"
   ]
  },
  {
   "cell_type": "markdown",
   "metadata": {},
   "source": [
    "# Logging example"
   ]
  },
  {
   "cell_type": "code",
   "execution_count": 10,
   "metadata": {
    "collapsed": false
   },
   "outputs": [
    {
     "name": "stdout",
     "output_type": "stream",
     "text": [
      "Initialize logs, use: \n",
      "tensorboard --logdir=/Users/peterwills/google-drive/python/my_packages/tffm/tmp/logs\n"
     ]
    },
    {
     "name": "stderr",
     "output_type": "stream",
     "text": [
      "100%|██████████| 10/10 [00:01<00:00,  9.76epoch/s]      | 1/10 [00:00<00:01,  5.49epoch/s]\n"
     ]
    },
    {
     "name": "stdout",
     "output_type": "stream",
     "text": [
      "[order=3] accuracy: 0.8588456712672522\n"
     ]
    }
   ],
   "source": [
    "order = 3\n",
    "model = TFFMClassifier(\n",
    "    order=order, \n",
    "    rank=10, \n",
    "    optimizer=tf.train.AdamOptimizer(learning_rate=0.01), \n",
    "    n_epochs=10, \n",
    "    batch_size=-1,\n",
    "    init_std=0.001,\n",
    "    reg=0.001,\n",
    "    input_type='sparse',\n",
    "    log_dir='./tmp/logs',\n",
    "    verbose=1\n",
    ")\n",
    "model.fit(X_tr_sparse, y_tr, show_progress=True)\n",
    "predictions = model.predict(X_te_sparse)\n",
    "print('[order={}] accuracy: {}'.format(order, accuracy_score(y_te, predictions)))"
   ]
  },
  {
   "cell_type": "markdown",
   "metadata": {},
   "source": [
    "# Save/load example"
   ]
  },
  {
   "cell_type": "code",
   "execution_count": 11,
   "metadata": {
    "collapsed": true
   },
   "outputs": [],
   "source": [
    "model.save_state('./tmp/state.tf')\n",
    "model.destroy()"
   ]
  },
  {
   "cell_type": "code",
   "execution_count": 12,
   "metadata": {
    "collapsed": false
   },
   "outputs": [
    {
     "name": "stdout",
     "output_type": "stream",
     "text": [
      "Initialize logs, use: \n",
      "tensorboard --logdir=/Users/peterwills/google-drive/python/my_packages/tffm/tmp/logs\n",
      "INFO:tensorflow:Restoring parameters from ./tmp/state.tf\n"
     ]
    }
   ],
   "source": [
    "model = TFFMClassifier(\n",
    "    order=3, \n",
    "    rank=10, \n",
    "    optimizer=tf.train.AdamOptimizer(learning_rate=0.01), \n",
    "    n_epochs=10, \n",
    "    batch_size=-1,\n",
    "    init_std=0.001,\n",
    "    reg=0.001,\n",
    "    input_type='sparse',\n",
    "    log_dir='./tmp/logs',\n",
    "    verbose=1\n",
    ")\n",
    "\n",
    "# internally model need to allocate memory before load previous weights,\n",
    "# so need to set num_features explicitly\n",
    "model.core.set_num_features(X_tr.shape[1])\n",
    "model.load_state('./tmp/state.tf')"
   ]
  },
  {
   "cell_type": "markdown",
   "metadata": {},
   "source": [
    "# Different optimizers"
   ]
  },
  {
   "cell_type": "code",
   "execution_count": 13,
   "metadata": {
    "collapsed": false
   },
   "outputs": [
    {
     "data": {
      "image/png": "[encoded data removed]",
      "text/plain": [
       "<matplotlib.figure.Figure at 0x10433b518>"
      ]
     },
     "metadata": {},
     "output_type": "display_data"
    }
   ],
   "source": [
    "for optim, title in [(tf.train.AdamOptimizer(learning_rate=0.001), 'Adam'), \n",
    "              (tf.train.FtrlOptimizer(0.01, l1_regularization_strength=0.01), 'FTRL')]:\n",
    "    acc = []\n",
    "    model = TFFMClassifier(\n",
    "        order=3, \n",
    "        rank=10, \n",
    "        optimizer=optim,\n",
    "        batch_size=1024,\n",
    "        init_std=0.001,\n",
    "        reg=0.1,\n",
    "        input_type='sparse',\n",
    "    )\n",
    "    n_epochs = 5\n",
    "    anchor_epochs = range(0, 200+1, n_epochs)\n",
    "    for _ in anchor_epochs:\n",
    "        # score result every 5 epochs\n",
    "        model.fit(X_tr_sparse, y_tr, n_epochs=n_epochs)\n",
    "        predictions = model.predict(X_te_sparse)\n",
    "        acc.append(accuracy_score(y_te, predictions))\n",
    "    plot(anchor_epochs, acc, label=title)\n",
    "    model.destroy()\n",
    "xlabel('n_epochs')\n",
    "ylabel('accuracy')\n",
    "legend()\n",
    "grid()"
   ]
  },
  {
   "cell_type": "markdown",
   "metadata": {
    "collapsed": true
   },
   "source": [
    "# Different regularization strategies"
   ]
  },
  {
   "cell_type": "code",
   "execution_count": 14,
   "metadata": {
    "collapsed": false
   },
   "outputs": [
    {
     "name": "stdout",
     "output_type": "stream",
     "text": [
      "Dataset shape: (10625, 784)\n",
      "Non-zeros rate: 0.006013565426170468\n",
      "Classes balance: 0.46936470588235296 / 0.5306352941176471\n"
     ]
    }
   ],
   "source": [
    "X_all = np.vstack([\n",
    "    mnist_images[mnist_labels==3,:],\n",
    "    mnist_images[mnist_labels==5,:]\n",
    "])\n",
    "\n",
    "y_all = np.array([1]*n_three + [0]*n_five)\n",
    "\n",
    "# make it more sparse (sparseness is about 97%)\n",
    "X_all = X_all * (np.random.uniform(0, 1, X_all.shape) > 0.97)\n",
    "\n",
    "print('Dataset shape: {}'.format(X_all.shape))\n",
    "print('Non-zeros rate: {}'.format(np.mean(X_all != 0)))\n",
    "print('Classes balance: {} / {}'.format(np.mean(y_all==0), np.mean(y_all==1)))\n",
    "\n",
    "X_tr, X_te, y_tr, y_te = train_test_split(X_all, y_all, random_state=42, test_size=0.3)"
   ]
  },
  {
   "cell_type": "code",
   "execution_count": 15,
   "metadata": {
    "collapsed": false
   },
   "outputs": [
    {
     "data": {
      "image/png": "[encoded data removed]",
      "text/plain": [
       "<matplotlib.figure.Figure at 0x127f882b0>"
      ]
     },
     "metadata": {},
     "output_type": "display_data"
    }
   ],
   "source": [
    "for use_reweight, title in [(False, 'no reweight reg'), (True, 'reweight reg')]:\n",
    "    acc = []\n",
    "    model = TFFMClassifier(\n",
    "        order=3, \n",
    "        rank=10, \n",
    "        optimizer=tf.train.AdamOptimizer(learning_rate=0.001),\n",
    "        batch_size=1024,\n",
    "        init_std=0.001,\n",
    "        reg=1.0,\n",
    "        input_type='sparse',\n",
    "        reweight_reg = use_reweight\n",
    "    )\n",
    "    n_epochs = 2\n",
    "    anchor_epochs = range(0, 20+1, n_epochs)\n",
    "    for _ in anchor_epochs:\n",
    "        # score result every 5 epochs\n",
    "        model.fit(X_tr_sparse, y_tr, n_epochs=n_epochs)\n",
    "        predictions = model.predict(X_te_sparse)\n",
    "        acc.append(accuracy_score(y_te, predictions))\n",
    "    plot(anchor_epochs, acc, label=title)\n",
    "    model.destroy()\n",
    "xlabel('n_epochs')\n",
    "ylabel('accuracy')\n",
    "legend(loc=4)\n",
    "grid()"
   ]
  },
  {
   "cell_type": "markdown",
   "metadata": {
    "collapsed": true
   },
   "source": [
    "# Weighted Loss Function\n",
    "\n",
    "When using `TFFMClassifier`, one can set the parameter `sample_weights` in order to \n",
    "\n",
    "1. Use a \"balanced\" weighting scheme, in which the weight applied to the positive class is $w_+ = n_- / n_+$.\n",
    "2. Prove a custom weight that is applied to every sample from the positive class.\n",
    "2. Prove arbitrary weights to be applied to each sample.\n",
    "\n",
    "We will demonstrate the first two approaches."
   ]
  },
  {
   "cell_type": "code",
   "execution_count": 16,
   "metadata": {
    "collapsed": false
   },
   "outputs": [
    {
     "name": "stdout",
     "output_type": "stream",
     "text": [
      "Classes balance: 0.753 / 0.247\n",
      "Balanced positive weight is 3.045.\n"
     ]
    }
   ],
   "source": [
    "# generate imbalanced data:\n",
    "\n",
    "X_imbalanced = X_all[4000:,:]\n",
    "y_imbalanced = y_all[4000:]\n",
    "\n",
    "print('Classes balance: {:.03f} / {:.03f}'.format(np.mean(y_imbalanced==0), \n",
    "                                                  np.mean(y_imbalanced==1)))\n",
    "\n",
    "print('Balanced positive weight is {:.03f}.'.format(np.mean(y_imbalanced==0)/np.mean(y_imbalanced==1)))\n",
    "\n",
    "X_tr, X_te, y_tr, y_te = train_test_split(X_imbalanced, y_imbalanced, random_state=42, test_size=0.3)"
   ]
  },
  {
   "cell_type": "code",
   "execution_count": 17,
   "metadata": {
    "collapsed": false
   },
   "outputs": [
    {
     "name": "stderr",
     "output_type": "stream",
     "text": [
      "100%|██████████| 50/50 [00:04<00:00, 11.69epoch/s]      | 1/50 [00:00<00:05,  8.22epoch/s]"
     ]
    },
    {
     "name": "stdout",
     "output_type": "stream",
     "text": [
      "accuracy: 0.7429577464788732\n"
     ]
    },
    {
     "name": "stderr",
     "output_type": "stream",
     "text": [
      "\n"
     ]
    }
   ],
   "source": [
    "# use custom weighting\n",
    "model = TFFMClassifier(\n",
    "    order=2,\n",
    "    rank=10, \n",
    "    optimizer=tf.train.AdamOptimizer(learning_rate=0.001), \n",
    "    n_epochs=50, \n",
    "    batch_size=1024,\n",
    "    init_std=0.001,\n",
    "    reg=0.01,\n",
    "    input_type='dense',\n",
    "    seed=42\n",
    ")\n",
    "model.fit(X_tr, y_tr, show_progress=True)\n",
    "predictions = model.predict(X_te)\n",
    "print('accuracy: {}'.format(accuracy_score(y_te, predictions)))\n",
    "# this will close tf.Session and free resources\n",
    "model.destroy()  "
   ]
  },
  {
   "cell_type": "code",
   "execution_count": 18,
   "metadata": {
    "collapsed": false
   },
   "outputs": [
    {
     "data": {
      "text/plain": [
       "array([[1405,   64],\n",
       "       [ 447,   72]])"
      ]
     },
     "execution_count": 18,
     "metadata": {},
     "output_type": "execute_result"
    }
   ],
   "source": [
    "from sklearn.metrics import confusion_matrix\n",
    "confusion_matrix(y_te,predictions)"
   ]
  },
  {
   "cell_type": "markdown",
   "metadata": {},
   "source": [
    "Unweighted loss shows good performance on prevalent class, but poor performance on class with smaller representation"
   ]
  },
  {
   "cell_type": "code",
   "execution_count": 19,
   "metadata": {
    "collapsed": false,
    "scrolled": true
   },
   "outputs": [
    {
     "name": "stderr",
     "output_type": "stream",
     "text": [
      "100%|██████████| 50/50 [00:04<00:00, 11.60epoch/s]      | 1/50 [00:00<00:06,  8.12epoch/s]"
     ]
    },
    {
     "name": "stdout",
     "output_type": "stream",
     "text": [
      "accuracy: 0.7253521126760564\n"
     ]
    },
    {
     "name": "stderr",
     "output_type": "stream",
     "text": [
      "\n"
     ]
    }
   ],
   "source": [
    "# use balanced weighting\n",
    "model = TFFMClassifier(\n",
    "    order=2,\n",
    "    sample_weight='balanced',\n",
    "    rank=10, \n",
    "    optimizer=tf.train.AdamOptimizer(learning_rate=0.001), \n",
    "    n_epochs=50, \n",
    "    batch_size=1024,\n",
    "    init_std=0.001,\n",
    "    reg=0.01,\n",
    "    input_type='dense',\n",
    "    seed=42\n",
    ")\n",
    "model.fit(X_tr, y_tr, show_progress=True)\n",
    "predictions = model.predict(X_te)\n",
    "print('accuracy: {}'.format(accuracy_score(y_te, predictions)))\n",
    "# this will close tf.Session and free resources\n",
    "model.destroy()"
   ]
  },
  {
   "cell_type": "code",
   "execution_count": 20,
   "metadata": {
    "collapsed": false
   },
   "outputs": [
    {
     "data": {
      "text/plain": [
       "array([[1178,  291],\n",
       "       [ 255,  264]])"
      ]
     },
     "execution_count": 20,
     "metadata": {},
     "output_type": "execute_result"
    }
   ],
   "source": [
    "from sklearn.metrics import confusion_matrix\n",
    "confusion_matrix(y_te,predictions)"
   ]
  },
  {
   "cell_type": "markdown",
   "metadata": {},
   "source": [
    "Performance in underrepresented class improved, at the cost of performance in prevalent class."
   ]
  },
  {
   "cell_type": "code",
   "execution_count": 21,
   "metadata": {
    "collapsed": false,
    "scrolled": false
   },
   "outputs": [
    {
     "name": "stderr",
     "output_type": "stream",
     "text": [
      "100%|██████████| 50/50 [00:04<00:00, 11.55epoch/s]      | 1/50 [00:00<00:06,  7.47epoch/s]"
     ]
    },
    {
     "name": "stdout",
     "output_type": "stream",
     "text": [
      "accuracy: 0.5025150905432596\n"
     ]
    },
    {
     "name": "stderr",
     "output_type": "stream",
     "text": [
      "\n"
     ]
    }
   ],
   "source": [
    "# use balanced weighting\n",
    "model = TFFMClassifier(\n",
    "    order=2,\n",
    "    pos_class_weight=6.0,\n",
    "    rank=10, \n",
    "    optimizer=tf.train.AdamOptimizer(learning_rate=0.001), \n",
    "    n_epochs=50, \n",
    "    batch_size=1024,\n",
    "    init_std=0.001,\n",
    "    reg=0.01,\n",
    "    input_type='dense',\n",
    "    seed=42\n",
    ")\n",
    "model.fit(X_tr, y_tr, show_progress=True)\n",
    "predictions = model.predict(X_te)\n",
    "print('accuracy: {}'.format(accuracy_score(y_te, predictions)))\n",
    "# this will close tf.Session and free resources\n",
    "model.destroy()  "
   ]
  },
  {
   "cell_type": "code",
   "execution_count": 22,
   "metadata": {
    "collapsed": false
   },
   "outputs": [
    {
     "data": {
      "text/plain": [
       "array([[528, 941],\n",
       "       [ 48, 471]])"
      ]
     },
     "execution_count": 22,
     "metadata": {},
     "output_type": "execute_result"
    }
   ],
   "source": [
    "confusion_matrix(y_te,predictions)"
   ]
  },
  {
   "cell_type": "markdown",
   "metadata": {},
   "source": [
    "Here we've overdone it, but we're quite accurate on the underrepresented class. The limiting case will cause the classifier to put all point into the over-weighted class."
   ]
  }
 ],
 "metadata": {
  "anaconda-cloud": {},
  "kernelspec": {
   "display_name": "Python [default]",
   "language": "python",
   "name": "python3"
  },
  "language_info": {
   "codemirror_mode": {
    "name": "ipython",
    "version": 3
   },
   "file_extension": ".py",
   "mimetype": "text/x-python",
   "name": "python",
   "nbconvert_exporter": "python",
   "pygments_lexer": "ipython3",
   "version": "3.5.2"
  }
 },
 "nbformat": 4,
 "nbformat_minor": 0
}
