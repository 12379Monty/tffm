{
 "cells": [
  {
   "cell_type": "code",
   "execution_count": 1,
   "metadata": {
    "collapsed": false
   },
   "outputs": [],
   "source": [
    "import numpy as np\n",
    "import tensorflow as tf\n",
    "import time\n",
    "from tqdm import tqdm"
   ]
  },
  {
   "cell_type": "markdown",
   "metadata": {},
   "source": [
    "# Load data"
   ]
  },
  {
   "cell_type": "code",
   "execution_count": 2,
   "metadata": {
    "collapsed": false
   },
   "outputs": [
    {
     "name": "stdout",
     "output_type": "stream",
     "text": [
      "Dataset shape: (13454, 784)\n",
      "Non-zeros rate: 0.16336532569\n",
      "Classes balance: 0.469228482236 / 0.530771517764\n"
     ]
    }
   ],
   "source": [
    "from sklearn.datasets import fetch_mldata\n",
    "from sklearn.preprocessing import scale\n",
    "from sklearn.cross_validation import train_test_split\n",
    "from sklearn.metrics import roc_auc_score, accuracy_score\n",
    "\n",
    "\n",
    "mnist = fetch_mldata('MNIST original', data_home='./tmp')\n",
    "\n",
    "# only binary classification supported\n",
    "mask = (mnist['target'] == 3) + (mnist['target'] == 5)\n",
    "\n",
    "X_all = scale(mnist['data'][mask].astype(float))\n",
    "y_all = (mnist['target'][mask]==3)*1\n",
    "\n",
    "# make it more sparse\n",
    "X_all = X_all * (np.random.uniform(0, 1, X_all.shape) > 0.8)\n",
    "\n",
    "print('Dataset shape: {}'.format(X_all.shape))\n",
    "print('Non-zeros rate: {}'.format(np.mean(X_all != 0)))\n",
    "print('Classes balance: {} / {}'.format(np.mean(y_all==0), np.mean(y_all==1)))\n",
    "\n",
    "X_tr, X_te, y_tr, y_te = train_test_split(X_all, y_all, random_state=42, test_size=0.3)"
   ]
  },
  {
   "cell_type": "markdown",
   "metadata": {
    "collapsed": true
   },
   "source": [
    "# Baselines"
   ]
  },
  {
   "cell_type": "code",
   "execution_count": 3,
   "metadata": {
    "collapsed": false
   },
   "outputs": [
    {
     "name": "stdout",
     "output_type": "stream",
     "text": [
      "model: LogisticRegression(C=1.0, class_weight=None, dual=False, fit_intercept=True,\n",
      "          intercept_scaling=1, max_iter=100, multi_class='ovr', n_jobs=1,\n",
      "          penalty='l2', random_state=None, solver='liblinear', tol=0.0001,\n",
      "          verbose=0, warm_start=False)\n",
      "accuracy: 0.889274213525\n",
      "()\n",
      "model: RandomForestClassifier(bootstrap=True, class_weight=None, criterion='gini',\n",
      "            max_depth=None, max_features='auto', max_leaf_nodes=None,\n",
      "            min_samples_leaf=1, min_samples_split=2,\n",
      "            min_weight_fraction_leaf=0.0, n_estimators=200, n_jobs=-1,\n",
      "            oob_score=False, random_state=None, verbose=0,\n",
      "            warm_start=False)\n",
      "accuracy: 0.885806291801\n",
      "()\n"
     ]
    }
   ],
   "source": [
    "from sklearn.linear_model import LogisticRegression\n",
    "from sklearn.ensemble import RandomForestClassifier\n",
    "for model in [\n",
    "                LogisticRegression(), \n",
    "                RandomForestClassifier(n_jobs=-1, n_estimators=200)\n",
    "            ]:\n",
    "    model.fit(X_tr, y_tr)\n",
    "    predictions = model.predict(X_te)\n",
    "    acc = accuracy_score(y_te, predictions)\n",
    "    print('model: {}'.format(model.__str__()))\n",
    "    print('accuracy: {}'.format(acc))\n",
    "    print()"
   ]
  },
  {
   "cell_type": "markdown",
   "metadata": {
    "collapsed": true
   },
   "source": [
    "# Dense example"
   ]
  },
  {
   "cell_type": "code",
   "execution_count": 4,
   "metadata": {
    "collapsed": false
   },
   "outputs": [
    {
     "name": "stderr",
     "output_type": "stream",
     "text": [
      "100%|██████████| 100/100 [00:18<00:00,  5.18epoch/s]\n"
     ]
    },
    {
     "name": "stdout",
     "output_type": "stream",
     "text": [
      "[order=2] accuracy: 0.877136487491\n"
     ]
    },
    {
     "name": "stderr",
     "output_type": "stream",
     "text": [
      "100%|██████████| 100/100 [00:47<00:00,  2.13epoch/s]\n"
     ]
    },
    {
     "name": "stdout",
     "output_type": "stream",
     "text": [
      "[order=3] accuracy: 0.913301956899\n"
     ]
    }
   ],
   "source": [
    "from tffm import TFFMClassifier\n",
    "\n",
    "for (order, rank) in [(2, 3), (3, 10)]:\n",
    "    model = TFFMClassifier(\n",
    "                order=order, \n",
    "                rank=rank, \n",
    "                optimizer=tf.train.AdamOptimizer(learning_rate=0.001), \n",
    "                n_epochs=100, \n",
    "                batch_size=-1,\n",
    "                init_std=0.001,\n",
    "                input_type='dense'\n",
    "    )\n",
    "    model.fit(X_tr, y_tr, show_progress=True)\n",
    "    predictions = model.predict(X_te)\n",
    "    print('[order={}] accuracy: {}'.format(order, accuracy_score(y_te, predictions)))\n",
    "    model.destroy()  # this will close tf.Session and free resources"
   ]
  },
  {
   "cell_type": "markdown",
   "metadata": {},
   "source": [
    "# Sparse example"
   ]
  },
  {
   "cell_type": "code",
   "execution_count": 5,
   "metadata": {
    "collapsed": true
   },
   "outputs": [],
   "source": [
    "import scipy.sparse as sp\n",
    "# only CRS format supported\n",
    "X_tr_sparse = sp.csr_matrix(X_tr)\n",
    "X_te_sparse = sp.csr_matrix(X_te)"
   ]
  },
  {
   "cell_type": "code",
   "execution_count": 6,
   "metadata": {
    "collapsed": false
   },
   "outputs": [
    {
     "name": "stderr",
     "output_type": "stream",
     "text": [
      "100%|██████████| 100/100 [00:46<00:00,  2.24epoch/s]\n"
     ]
    },
    {
     "name": "stdout",
     "output_type": "stream",
     "text": [
      "[rank=10] accuracy: 0.917760713401\n"
     ]
    }
   ],
   "source": [
    "model = TFFMClassifier(\n",
    "            order=3, \n",
    "            rank=10, \n",
    "            optimizer=tf.train.AdamOptimizer(learning_rate=0.001), \n",
    "            n_epochs=100, \n",
    "            batch_size=-1,\n",
    "            init_std=0.001,\n",
    "            input_type='sparse'\n",
    ")\n",
    "model.fit(X_tr_sparse, y_tr, show_progress=True)\n",
    "predictions = model.predict(X_te_sparse)\n",
    "print('[rank={}] accuracy: {}'.format(rank, accuracy_score(y_te, predictions)))\n",
    "model.destroy()  # this will close tf.Session and free resources"
   ]
  },
  {
   "cell_type": "markdown",
   "metadata": {
    "collapsed": true
   },
   "source": [
    "# n_features/time complexity"
   ]
  },
  {
   "cell_type": "code",
   "execution_count": 16,
   "metadata": {
    "collapsed": false
   },
   "outputs": [
    {
     "name": "stderr",
     "output_type": "stream",
     "text": [
      "100%|██████████| 9/9 [03:48<00:00, 28.06s/it]\n"
     ]
    }
   ],
   "source": [
    "n_features = X_all.shape[1]\n",
    "used_features = range(100, 1000, 100)\n",
    "n_repeats = 10\n",
    "elapsed_mean = []\n",
    "elapsed_std = []\n",
    "model_title = ''\n",
    "\n",
    "for cur_n_feats in tqdm(used_features):\n",
    "    time_observation = []\n",
    "    for _ in range(n_repeats):\n",
    "        active_features = np.random.choice(range(n_features), size=cur_n_feats)\n",
    "        model = TFFMClassifier(\n",
    "                    order=5, \n",
    "                    rank=50,\n",
    "                    optimizer=tf.train.AdamOptimizer(learning_rate=0.001), \n",
    "                    n_epochs=1, \n",
    "                    batch_size=-1,\n",
    "                    init_std=0.01,\n",
    "                    input_type='dense'\n",
    "        )\n",
    "        model_title = model.__str__()\n",
    "        # manually initialize model without calling .fit()\n",
    "        model.core.set_num_features(cur_n_feats)\n",
    "        model.core.build_graph()\n",
    "        model.initialize_session()\n",
    "        \n",
    "        start_time = time.time()\n",
    "        predictions = model.decision_function(X_all[:, active_features])\n",
    "        end_time = time.time()\n",
    "        model.destroy()\n",
    "        time_observation.append(end_time - start_time)\n",
    "    elapsed_mean.append(np.mean(time_observation))\n",
    "    elapsed_std.append(np.std(time_observation))"
   ]
  },
  {
   "cell_type": "code",
   "execution_count": 17,
   "metadata": {
    "collapsed": false
   },
   "outputs": [
    {
     "name": "stdout",
     "output_type": "stream",
     "text": [
      "Populating the interactive namespace from numpy and matplotlib\n"
     ]
    },
    {
     "data": {
      "text/plain": [
       "<matplotlib.text.Text at 0x11578dbd0>"
      ]
     },
     "execution_count": 17,
     "metadata": {},
     "output_type": "execute_result"
    },
    {
     "data": {
      "image/png": "[encoded data removed]",
      "text/plain": [
       "<matplotlib.figure.Figure at 0x10d2b76d0>"
      ]
     },
     "metadata": {},
     "output_type": "display_data"
    }
   ],
   "source": [
    "%pylab inline\n",
    "errorbar(used_features, elapsed_mean, yerr=elapsed_std)\n",
    "xlim(0, 1000)\n",
    "title(model_title)\n",
    "xlabel('n_features')\n",
    "ylabel('test time')"
   ]
  }
 ],
 "metadata": {
  "kernelspec": {
   "display_name": "Python 2",
   "language": "python",
   "name": "python2"
  },
  "language_info": {
   "codemirror_mode": {
    "name": "ipython",
    "version": 2
   },
   "file_extension": ".py",
   "mimetype": "text/x-python",
   "name": "python",
   "nbconvert_exporter": "python",
   "pygments_lexer": "ipython2",
   "version": "2.7.11"
  }
 },
 "nbformat": 4,
 "nbformat_minor": 0
}
